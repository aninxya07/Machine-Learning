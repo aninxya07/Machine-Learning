{
  "nbformat": 4,
  "nbformat_minor": 0,
  "metadata": {
    "colab": {
      "provenance": []
    },
    "kernelspec": {
      "name": "python3",
      "display_name": "Python 3"
    },
    "language_info": {
      "name": "python"
    }
  },
  "cells": [
    {
      "cell_type": "markdown",
      "source": [
        "# **Importing numpy**"
      ],
      "metadata": {
        "id": "tco1AsuD812s"
      }
    },
    {
      "cell_type": "code",
      "execution_count": 4,
      "metadata": {
        "id": "DUM7p8XU8R48"
      },
      "outputs": [],
      "source": [
        "import numpy as np"
      ]
    },
    {
      "cell_type": "markdown",
      "source": [
        "# **Creating an one dimensional array**"
      ],
      "metadata": {
        "id": "Kk1JgtMP9Fl3"
      }
    },
    {
      "cell_type": "code",
      "source": [
        "res = np.array([1, 2, 3, 4, 5, 6, 7, 8])"
      ],
      "metadata": {
        "id": "-LRFgjdX9LKc"
      },
      "execution_count": 7,
      "outputs": []
    },
    {
      "cell_type": "code",
      "source": [
        "res"
      ],
      "metadata": {
        "colab": {
          "base_uri": "https://localhost:8080/"
        },
        "id": "5hMgTiEl9Tx7",
        "outputId": "460fdb99-42ee-485b-a956-0fb36c4115cb"
      },
      "execution_count": 8,
      "outputs": [
        {
          "output_type": "execute_result",
          "data": {
            "text/plain": [
              "array([1, 2, 3, 4, 5, 6, 7, 8])"
            ]
          },
          "metadata": {},
          "execution_count": 8
        }
      ]
    },
    {
      "cell_type": "markdown",
      "source": [
        "# **Accessing any random element**"
      ],
      "metadata": {
        "id": "tKv2dP1n9aZr"
      }
    },
    {
      "cell_type": "code",
      "source": [
        "print(res[0])\n",
        "print(res[2])"
      ],
      "metadata": {
        "colab": {
          "base_uri": "https://localhost:8080/"
        },
        "id": "T5_qtUrg9Z-s",
        "outputId": "68dd2a72-913a-43a8-ce96-6a993376017f"
      },
      "execution_count": 11,
      "outputs": [
        {
          "output_type": "stream",
          "name": "stdout",
          "text": [
            "1\n",
            "3\n"
          ]
        }
      ]
    },
    {
      "cell_type": "markdown",
      "source": [
        "# printing all the elements"
      ],
      "metadata": {
        "id": "ZgzwYYkX-LYy"
      }
    },
    {
      "cell_type": "code",
      "source": [
        "res[ : ]"
      ],
      "metadata": {
        "colab": {
          "base_uri": "https://localhost:8080/"
        },
        "id": "KD_ag-Dr9Z8V",
        "outputId": "8bfa0372-515f-4628-a4d9-ccfbf2e7de8d"
      },
      "execution_count": 12,
      "outputs": [
        {
          "output_type": "execute_result",
          "data": {
            "text/plain": [
              "array([1, 2, 3, 4, 5, 6, 7, 8])"
            ]
          },
          "metadata": {},
          "execution_count": 12
        }
      ]
    },
    {
      "cell_type": "markdown",
      "source": [
        "# **printing starts from 3rd index and goes all the way up to the end**"
      ],
      "metadata": {
        "id": "hAQNRdbs-T1a"
      }
    },
    {
      "cell_type": "code",
      "source": [
        "res[3 : ]"
      ],
      "metadata": {
        "colab": {
          "base_uri": "https://localhost:8080/"
        },
        "id": "n6bLji049Z5s",
        "outputId": "c9235067-8cb7-4cee-c121-38f88296233b"
      },
      "execution_count": 13,
      "outputs": [
        {
          "output_type": "execute_result",
          "data": {
            "text/plain": [
              "array([4, 5, 6, 7, 8])"
            ]
          },
          "metadata": {},
          "execution_count": 13
        }
      ]
    },
    {
      "cell_type": "markdown",
      "source": [
        "# **it always prints one element less than the upper bound mentioned**"
      ],
      "metadata": {
        "id": "OEFCIEYF_GTy"
      }
    },
    {
      "cell_type": "code",
      "source": [
        "res[ : 3]    #prints up to the 2nd index"
      ],
      "metadata": {
        "colab": {
          "base_uri": "https://localhost:8080/"
        },
        "id": "v5pX3LSG_MmS",
        "outputId": "76fed34b-addb-4f52-b36e-8f60df303dee"
      },
      "execution_count": 19,
      "outputs": [
        {
          "output_type": "execute_result",
          "data": {
            "text/plain": [
              "array([1, 2, 3])"
            ]
          },
          "metadata": {},
          "execution_count": 19
        }
      ]
    },
    {
      "cell_type": "markdown",
      "source": [
        "# **printing except the last element**"
      ],
      "metadata": {
        "id": "1-iqZlcU-gLb"
      }
    },
    {
      "cell_type": "code",
      "source": [
        "res[ : -1]"
      ],
      "metadata": {
        "colab": {
          "base_uri": "https://localhost:8080/"
        },
        "id": "Ged1TBnG9Z26",
        "outputId": "6900a6f0-9ebe-409b-f1b4-7195d4518954"
      },
      "execution_count": 14,
      "outputs": [
        {
          "output_type": "execute_result",
          "data": {
            "text/plain": [
              "array([1, 2, 3, 4, 5, 6, 7])"
            ]
          },
          "metadata": {},
          "execution_count": 14
        }
      ]
    },
    {
      "cell_type": "markdown",
      "source": [
        "# **printing except the last 3 elements**"
      ],
      "metadata": {
        "id": "l60ItJZo-nyy"
      }
    },
    {
      "cell_type": "code",
      "source": [
        "res[ : -3]"
      ],
      "metadata": {
        "colab": {
          "base_uri": "https://localhost:8080/"
        },
        "id": "j160IKZD9ZwK",
        "outputId": "cf8ea516-e36a-4010-e62d-2c7faa411d01"
      },
      "execution_count": 15,
      "outputs": [
        {
          "output_type": "execute_result",
          "data": {
            "text/plain": [
              "array([1, 2, 3, 4, 5])"
            ]
          },
          "metadata": {},
          "execution_count": 15
        }
      ]
    },
    {
      "cell_type": "markdown",
      "source": [
        "# **removing first and last 3 elements**"
      ],
      "metadata": {
        "id": "AMV-Arxb-1gR"
      }
    },
    {
      "cell_type": "code",
      "source": [
        "res[3 : -3]"
      ],
      "metadata": {
        "colab": {
          "base_uri": "https://localhost:8080/"
        },
        "id": "2cJdKnHM-1CL",
        "outputId": "6db5d69c-999b-42a7-e306-f177f73767f2"
      },
      "execution_count": 16,
      "outputs": [
        {
          "output_type": "execute_result",
          "data": {
            "text/plain": [
              "array([4, 5])"
            ]
          },
          "metadata": {},
          "execution_count": 16
        }
      ]
    },
    {
      "cell_type": "markdown",
      "source": [
        "# **Creating a multi dimensional array**"
      ],
      "metadata": {
        "id": "gZxwxsEZ857j"
      }
    },
    {
      "cell_type": "code",
      "source": [
        "arr= np.array([[1, 2, 3, 4],\n",
        "               [5, 6, 7, 8],\n",
        "               [8, 7, 6, 5],\n",
        "               [4, 3, 2, 1]])"
      ],
      "metadata": {
        "id": "xjjUqtvZ8ZWj"
      },
      "execution_count": 5,
      "outputs": []
    },
    {
      "cell_type": "code",
      "source": [
        "arr"
      ],
      "metadata": {
        "colab": {
          "base_uri": "https://localhost:8080/"
        },
        "id": "k9fSyTP78v80",
        "outputId": "58c4d792-a1fe-4a2d-fd12-a6286a0e4184"
      },
      "execution_count": 6,
      "outputs": [
        {
          "output_type": "execute_result",
          "data": {
            "text/plain": [
              "array([[1, 2, 3, 4],\n",
              "       [5, 6, 7, 8],\n",
              "       [8, 7, 6, 5],\n",
              "       [4, 3, 2, 1]])"
            ]
          },
          "metadata": {},
          "execution_count": 6
        }
      ]
    },
    {
      "cell_type": "markdown",
      "source": [
        "# **printing all the elements, first : for row slicing and second : for col slicing**"
      ],
      "metadata": {
        "id": "7LJAKZnM-2C7"
      }
    },
    {
      "cell_type": "code",
      "source": [
        "arr[ : , : ]"
      ],
      "metadata": {
        "colab": {
          "base_uri": "https://localhost:8080/"
        },
        "id": "KwOcaSyi-0_z",
        "outputId": "9ea82bde-e98e-45c0-ef85-ec9e0ebeaec1"
      },
      "execution_count": 20,
      "outputs": [
        {
          "output_type": "execute_result",
          "data": {
            "text/plain": [
              "array([[1, 2, 3, 4],\n",
              "       [5, 6, 7, 8],\n",
              "       [8, 7, 6, 5],\n",
              "       [4, 3, 2, 1]])"
            ]
          },
          "metadata": {},
          "execution_count": 20
        }
      ]
    },
    {
      "cell_type": "markdown",
      "source": [
        "# **printing only the first row**"
      ],
      "metadata": {
        "id": "IIj1QgcW-2hh"
      }
    },
    {
      "cell_type": "code",
      "source": [
        "arr[ : 1, : ]"
      ],
      "metadata": {
        "colab": {
          "base_uri": "https://localhost:8080/"
        },
        "id": "esCyFJiN-09R",
        "outputId": "940dd46f-7d0d-4cec-a36e-8a5de612723c"
      },
      "execution_count": 21,
      "outputs": [
        {
          "output_type": "execute_result",
          "data": {
            "text/plain": [
              "array([[1, 2, 3, 4]])"
            ]
          },
          "metadata": {},
          "execution_count": 21
        }
      ]
    },
    {
      "cell_type": "markdown",
      "source": [
        "# **printing only the first col**"
      ],
      "metadata": {
        "id": "1zNKX_iV-256"
      }
    },
    {
      "cell_type": "code",
      "source": [
        "arr[ : , : 1]"
      ],
      "metadata": {
        "colab": {
          "base_uri": "https://localhost:8080/"
        },
        "id": "SbqlO4wy-06B",
        "outputId": "d6e7bf71-8235-43bc-8f69-d3a4eaa32010"
      },
      "execution_count": 22,
      "outputs": [
        {
          "output_type": "execute_result",
          "data": {
            "text/plain": [
              "array([[1],\n",
              "       [5],\n",
              "       [8],\n",
              "       [4]])"
            ]
          },
          "metadata": {},
          "execution_count": 22
        }
      ]
    },
    {
      "cell_type": "markdown",
      "source": [
        "# **printing the last two rows**"
      ],
      "metadata": {
        "id": "EabCwLTE-3Tq"
      }
    },
    {
      "cell_type": "code",
      "source": [
        "arr[2 : , : ]"
      ],
      "metadata": {
        "colab": {
          "base_uri": "https://localhost:8080/"
        },
        "id": "u_rUSPdR-0z5",
        "outputId": "222a0113-313c-4cda-8d62-316284dd97eb"
      },
      "execution_count": 24,
      "outputs": [
        {
          "output_type": "execute_result",
          "data": {
            "text/plain": [
              "array([[8, 7, 6, 5],\n",
              "       [4, 3, 2, 1]])"
            ]
          },
          "metadata": {},
          "execution_count": 24
        }
      ]
    },
    {
      "cell_type": "markdown",
      "source": [
        "# **printing except the first row and first col (cropping an array)**"
      ],
      "metadata": {
        "id": "MAkGNWOi-3sh"
      }
    },
    {
      "cell_type": "code",
      "source": [
        "arr[1 : , 1 : ]"
      ],
      "metadata": {
        "colab": {
          "base_uri": "https://localhost:8080/"
        },
        "id": "SthvMq049Zts",
        "outputId": "62fecb1b-6f1f-471f-938c-c3a4fbd51e7a"
      },
      "execution_count": 25,
      "outputs": [
        {
          "output_type": "execute_result",
          "data": {
            "text/plain": [
              "array([[6, 7, 8],\n",
              "       [7, 6, 5],\n",
              "       [3, 2, 1]])"
            ]
          },
          "metadata": {},
          "execution_count": 25
        }
      ]
    },
    {
      "cell_type": "code",
      "source": [
        "arr"
      ],
      "metadata": {
        "colab": {
          "base_uri": "https://localhost:8080/"
        },
        "id": "DWZGqf9_AzaQ",
        "outputId": "13e4fe4f-5724-4314-f66e-bfa5564efefa"
      },
      "execution_count": 26,
      "outputs": [
        {
          "output_type": "execute_result",
          "data": {
            "text/plain": [
              "array([[1, 2, 3, 4],\n",
              "       [5, 6, 7, 8],\n",
              "       [8, 7, 6, 5],\n",
              "       [4, 3, 2, 1]])"
            ]
          },
          "metadata": {},
          "execution_count": 26
        }
      ]
    },
    {
      "cell_type": "markdown",
      "source": [
        "# **accessing 6 of the 3rd row**"
      ],
      "metadata": {
        "id": "gQuD8TrTAtzx"
      }
    },
    {
      "cell_type": "code",
      "source": [
        "arr[2 : 3, 2 : 3]   #sing slicing"
      ],
      "metadata": {
        "colab": {
          "base_uri": "https://localhost:8080/"
        },
        "id": "YtV3dsF480xV",
        "outputId": "8e09f50a-6633-4e5f-985a-d3a8607f5301"
      },
      "execution_count": 27,
      "outputs": [
        {
          "output_type": "execute_result",
          "data": {
            "text/plain": [
              "array([[6]])"
            ]
          },
          "metadata": {},
          "execution_count": 27
        }
      ]
    },
    {
      "cell_type": "code",
      "source": [
        "arr[1, 1]   #using indexing (think like the indexes in a matrix)"
      ],
      "metadata": {
        "colab": {
          "base_uri": "https://localhost:8080/"
        },
        "id": "0GffQ4-dBR6P",
        "outputId": "eae21fff-ac1e-4ee5-ee23-dc3d1750eac2"
      },
      "execution_count": 28,
      "outputs": [
        {
          "output_type": "execute_result",
          "data": {
            "text/plain": [
              "6"
            ]
          },
          "metadata": {},
          "execution_count": 28
        }
      ]
    },
    {
      "cell_type": "code",
      "source": [
        "arr[2, 3]"
      ],
      "metadata": {
        "colab": {
          "base_uri": "https://localhost:8080/"
        },
        "id": "kMTapiXWA-KY",
        "outputId": "981f5a79-ca3f-4142-d24a-b9e23da9ca6a"
      },
      "execution_count": 29,
      "outputs": [
        {
          "output_type": "execute_result",
          "data": {
            "text/plain": [
              "5"
            ]
          },
          "metadata": {},
          "execution_count": 29
        }
      ]
    }
  ]
}