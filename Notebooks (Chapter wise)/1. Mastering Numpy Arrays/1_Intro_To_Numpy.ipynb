{
  "nbformat": 4,
  "nbformat_minor": 0,
  "metadata": {
    "colab": {
      "provenance": []
    },
    "kernelspec": {
      "name": "python3",
      "display_name": "Python 3"
    },
    "language_info": {
      "name": "python"
    }
  },
  "cells": [
    {
      "cell_type": "markdown",
      "source": [
        "# **Installing NumPy library**"
      ],
      "metadata": {
        "id": "PHyBuoLNu22g"
      }
    },
    {
      "cell_type": "code",
      "execution_count": null,
      "metadata": {
        "colab": {
          "base_uri": "https://localhost:8080/"
        },
        "id": "Tsf-OyX1rsBJ",
        "outputId": "e400e496-dd70-46c4-cdab-33850b88a2d9"
      },
      "outputs": [
        {
          "output_type": "stream",
          "name": "stdout",
          "text": [
            "Requirement already satisfied: numpy in /usr/local/lib/python3.10/dist-packages (1.25.2)\n"
          ]
        }
      ],
      "source": [
        "!pip install numpy"
      ]
    },
    {
      "cell_type": "markdown",
      "source": [
        "# **Importing NumPy and giving it a short name for calling further**"
      ],
      "metadata": {
        "id": "pgcgblnWu_M9"
      }
    },
    {
      "cell_type": "code",
      "source": [
        "import numpy as np"
      ],
      "metadata": {
        "id": "L_qG4PcGsOhJ"
      },
      "execution_count": null,
      "outputs": []
    },
    {
      "cell_type": "code",
      "source": [
        "np"
      ],
      "metadata": {
        "colab": {
          "base_uri": "https://localhost:8080/"
        },
        "id": "y4rzOtEwsa5L",
        "outputId": "5ce49473-358d-4b9a-8cba-0aa866014dd5"
      },
      "execution_count": null,
      "outputs": [
        {
          "output_type": "execute_result",
          "data": {
            "text/plain": [
              "<module 'numpy' from '/usr/local/lib/python3.10/dist-packages/numpy/__init__.py'>"
            ]
          },
          "metadata": {},
          "execution_count": 8
        }
      ]
    },
    {
      "cell_type": "markdown",
      "source": [
        "# **Creating a list & printing it**"
      ],
      "metadata": {
        "id": "l0yNlPpPvHv9"
      }
    },
    {
      "cell_type": "code",
      "source": [
        "lst = [[1, 2, 3],\n",
        "       [1, 2, 3],\n",
        "       [1, 2, 3]]\n",
        "lst"
      ],
      "metadata": {
        "colab": {
          "base_uri": "https://localhost:8080/"
        },
        "id": "N7jymYn9sdvJ",
        "outputId": "5cf6ae81-b2bd-4967-f504-e292e3891bd2"
      },
      "execution_count": null,
      "outputs": [
        {
          "output_type": "execute_result",
          "data": {
            "text/plain": [
              "[[1, 2, 3], [1, 2, 3], [1, 2, 3]]"
            ]
          },
          "metadata": {},
          "execution_count": 9
        }
      ]
    },
    {
      "cell_type": "markdown",
      "source": [
        "# **Checking the data type**"
      ],
      "metadata": {
        "id": "F9TKFJRGvUi1"
      }
    },
    {
      "cell_type": "code",
      "source": [
        "type(lst)"
      ],
      "metadata": {
        "colab": {
          "base_uri": "https://localhost:8080/"
        },
        "id": "TzcymjLEsq_8",
        "outputId": "39bc1165-9f7d-400a-916b-b404e36e03fa"
      },
      "execution_count": null,
      "outputs": [
        {
          "output_type": "execute_result",
          "data": {
            "text/plain": [
              "list"
            ]
          },
          "metadata": {},
          "execution_count": 10
        }
      ]
    },
    {
      "cell_type": "markdown",
      "source": [
        "# **Converting the list to an array using NumPy**"
      ],
      "metadata": {
        "id": "WtTdOP-SvZik"
      }
    },
    {
      "cell_type": "code",
      "source": [
        "arr = np.array(lst)"
      ],
      "metadata": {
        "id": "0weBgRSDstRk"
      },
      "execution_count": null,
      "outputs": []
    },
    {
      "cell_type": "markdown",
      "source": [
        "# **Again printing and checking the data type of numpy array**"
      ],
      "metadata": {
        "id": "SE2UFu-7vg-k"
      }
    },
    {
      "cell_type": "code",
      "source": [
        "print(arr)\n",
        "type(arr)"
      ],
      "metadata": {
        "colab": {
          "base_uri": "https://localhost:8080/"
        },
        "id": "Z0qmrwoHtAsl",
        "outputId": "18ef5521-eeca-4dd5-988a-901e38dc565e"
      },
      "execution_count": null,
      "outputs": [
        {
          "output_type": "stream",
          "name": "stdout",
          "text": [
            "[[1 2 3]\n",
            " [1 2 3]\n",
            " [1 2 3]]\n"
          ]
        },
        {
          "output_type": "execute_result",
          "data": {
            "text/plain": [
              "numpy.ndarray"
            ]
          },
          "metadata": {},
          "execution_count": 12
        }
      ]
    },
    {
      "cell_type": "markdown",
      "source": [
        "#**Dimension of the array**"
      ],
      "metadata": {
        "id": "AZszEgpHuP3m"
      }
    },
    {
      "cell_type": "code",
      "source": [
        "arr.ndim"
      ],
      "metadata": {
        "colab": {
          "base_uri": "https://localhost:8080/"
        },
        "id": "PEa3Z7LktB6_",
        "outputId": "b7cf8030-2fc8-4e03-fd67-6549a6c392c0"
      },
      "execution_count": null,
      "outputs": [
        {
          "output_type": "execute_result",
          "data": {
            "text/plain": [
              "2"
            ]
          },
          "metadata": {},
          "execution_count": 13
        }
      ]
    },
    {
      "cell_type": "markdown",
      "source": [
        "#**Size of the array -> Total no of elements present inside of it**"
      ],
      "metadata": {
        "id": "aiq2iSsPuYTX"
      }
    },
    {
      "cell_type": "code",
      "source": [
        "arr.size"
      ],
      "metadata": {
        "colab": {
          "base_uri": "https://localhost:8080/"
        },
        "id": "gefGLmmGtq0w",
        "outputId": "a346e14f-9fc0-492f-8f0c-854fba2859ea"
      },
      "execution_count": null,
      "outputs": [
        {
          "output_type": "execute_result",
          "data": {
            "text/plain": [
              "9"
            ]
          },
          "metadata": {},
          "execution_count": 18
        }
      ]
    },
    {
      "cell_type": "markdown",
      "source": [
        "#**No of elements in matrix format (row, col)**"
      ],
      "metadata": {
        "id": "JX_BNvkDujxf"
      }
    },
    {
      "cell_type": "code",
      "source": [
        "arr.shape"
      ],
      "metadata": {
        "colab": {
          "base_uri": "https://localhost:8080/"
        },
        "id": "2pjYpvuyuK46",
        "outputId": "9eba0bd6-cb73-4116-9667-5c6d2e145aed"
      },
      "execution_count": null,
      "outputs": [
        {
          "output_type": "execute_result",
          "data": {
            "text/plain": [
              "(3, 3)"
            ]
          },
          "metadata": {},
          "execution_count": 19
        }
      ]
    },
    {
      "cell_type": "markdown",
      "source": [
        "# **dtype -> Tells which type of data the array contains**"
      ],
      "metadata": {
        "id": "jLeJcFQrvv2D"
      }
    },
    {
      "cell_type": "code",
      "source": [
        "arr.dtype"
      ],
      "metadata": {
        "colab": {
          "base_uri": "https://localhost:8080/"
        },
        "id": "yg4R5B-FuNDG",
        "outputId": "be2a2cf0-0dfe-49c0-f8c1-3c5071543b57"
      },
      "execution_count": null,
      "outputs": [
        {
          "output_type": "execute_result",
          "data": {
            "text/plain": [
              "dtype('int64')"
            ]
          },
          "metadata": {},
          "execution_count": 14
        }
      ]
    },
    {
      "cell_type": "markdown",
      "source": [
        "#  **Creating any desired sized array with all the values predefined to 0**\n",
        "## **Parameter needs to be passed -> Shape of the array (row, col)**"
      ],
      "metadata": {
        "id": "e4ZV2xxYwORx"
      }
    },
    {
      "cell_type": "code",
      "source": [
        "zeros = np.zeros((3, 5))\n",
        "zeros"
      ],
      "metadata": {
        "colab": {
          "base_uri": "https://localhost:8080/"
        },
        "id": "IN28mW59vus3",
        "outputId": "bebf6460-931d-417e-db9b-5685d4fc634f"
      },
      "execution_count": null,
      "outputs": [
        {
          "output_type": "execute_result",
          "data": {
            "text/plain": [
              "array([[0., 0., 0., 0., 0.],\n",
              "       [0., 0., 0., 0., 0.],\n",
              "       [0., 0., 0., 0., 0.]])"
            ]
          },
          "metadata": {},
          "execution_count": 22
        }
      ]
    },
    {
      "cell_type": "markdown",
      "source": [
        "# **Can also intialize to 1**"
      ],
      "metadata": {
        "id": "O-XFZKG6wqwA"
      }
    },
    {
      "cell_type": "code",
      "source": [
        "ones = np.ones((5, 3))\n",
        "ones"
      ],
      "metadata": {
        "colab": {
          "base_uri": "https://localhost:8080/"
        },
        "id": "uyBKHSxMwZTK",
        "outputId": "68ca5e0f-56b1-40f2-fd76-0efb02040e2a"
      },
      "execution_count": null,
      "outputs": [
        {
          "output_type": "execute_result",
          "data": {
            "text/plain": [
              "array([[1., 1., 1.],\n",
              "       [1., 1., 1.],\n",
              "       [1., 1., 1.],\n",
              "       [1., 1., 1.],\n",
              "       [1., 1., 1.]])"
            ]
          },
          "metadata": {},
          "execution_count": 23
        }
      ]
    },
    {
      "cell_type": "markdown",
      "source": [
        "# **Generate a random no using numpy (always gives a value b/w 0 and 1)**"
      ],
      "metadata": {
        "id": "Yl5L4HnmSvZB"
      }
    },
    {
      "cell_type": "code",
      "source": [
        "np.random.random()"
      ],
      "metadata": {
        "colab": {
          "base_uri": "https://localhost:8080/"
        },
        "id": "1XuJLLEkSssv",
        "outputId": "b0c498ff-5243-49ed-903c-4486a56723d6"
      },
      "execution_count": null,
      "outputs": [
        {
          "output_type": "execute_result",
          "data": {
            "text/plain": [
              "0.33408529095323625"
            ]
          },
          "metadata": {},
          "execution_count": 31
        }
      ]
    },
    {
      "cell_type": "markdown",
      "source": [
        "# **Generating random no matrices**"
      ],
      "metadata": {
        "id": "E2Wvan-FSiRh"
      }
    },
    {
      "cell_type": "code",
      "source": [
        "np.random.random((3, 3))"
      ],
      "metadata": {
        "id": "XpKJ2GtXwxRL",
        "colab": {
          "base_uri": "https://localhost:8080/"
        },
        "outputId": "ec32233d-8c1d-408e-dbe4-7f159dfd0459"
      },
      "execution_count": null,
      "outputs": [
        {
          "output_type": "execute_result",
          "data": {
            "text/plain": [
              "array([[0.79476031, 0.4680844 , 0.09814828],\n",
              "       [0.088301  , 0.17135968, 0.83808267],\n",
              "       [0.04532212, 0.07679418, 0.27443978]])"
            ]
          },
          "metadata": {},
          "execution_count": 26
        }
      ]
    },
    {
      "cell_type": "markdown",
      "source": [
        "# **Use in if-else**"
      ],
      "metadata": {
        "id": "jqZ87ABgTG41"
      }
    },
    {
      "cell_type": "code",
      "source": [
        "rand = np.random.random()\n",
        "if (rand) > 0.5:\n",
        "  print(\"Run the function\")\n",
        "  print(rand)\n",
        "else:\n",
        "  print(\"Don't do anything\")\n",
        "  print(rand)"
      ],
      "metadata": {
        "colab": {
          "base_uri": "https://localhost:8080/"
        },
        "id": "lmWVI8aZTL-R",
        "outputId": "48d74a2e-e597-482e-d3a4-c50766b40bb0"
      },
      "execution_count": null,
      "outputs": [
        {
          "output_type": "stream",
          "name": "stdout",
          "text": [
            "Run the function\n",
            "0.5420390742568651\n"
          ]
        }
      ]
    },
    {
      "cell_type": "markdown",
      "source": [
        "# **arange function -> (start, end, interval)**"
      ],
      "metadata": {
        "id": "VOW4gPGTUbbQ"
      }
    },
    {
      "cell_type": "code",
      "source": [
        "np.arange(2, 11, 2)  # similar to for(i=2; i<11; i+2)"
      ],
      "metadata": {
        "colab": {
          "base_uri": "https://localhost:8080/"
        },
        "id": "7wzxO7S0Uiys",
        "outputId": "14ed916c-4fdb-45ac-dd1a-6b3cd83ba5c5"
      },
      "execution_count": null,
      "outputs": [
        {
          "output_type": "execute_result",
          "data": {
            "text/plain": [
              "array([ 2,  4,  6,  8, 10])"
            ]
          },
          "metadata": {},
          "execution_count": 42
        }
      ]
    },
    {
      "cell_type": "markdown",
      "source": [
        "# **linspace function -> (start, end, no of elements)**\n",
        "# ****here based upon the no of elements, the interval is equally distributed****"
      ],
      "metadata": {
        "id": "5uygfeKLWCO0"
      }
    },
    {
      "cell_type": "code",
      "source": [
        "np.linspace(1, 10, 10)  #ex 1, we want 10 elements b/w 1 to 10"
      ],
      "metadata": {
        "colab": {
          "base_uri": "https://localhost:8080/"
        },
        "id": "R-9Q1VVqWPrT",
        "outputId": "658a6364-16de-4a16-d9a1-c2d7e61932e7"
      },
      "execution_count": null,
      "outputs": [
        {
          "output_type": "execute_result",
          "data": {
            "text/plain": [
              "array([ 1.,  2.,  3.,  4.,  5.,  6.,  7.,  8.,  9., 10.])"
            ]
          },
          "metadata": {},
          "execution_count": 44
        }
      ]
    },
    {
      "cell_type": "code",
      "source": [
        "np.linspace(1, 7, 10)   #ex 2, we want 10 elements b/w 1 to 7"
      ],
      "metadata": {
        "colab": {
          "base_uri": "https://localhost:8080/"
        },
        "id": "9A32GKkGWcPZ",
        "outputId": "f9ce233e-bd05-4fb9-c433-65ba55a1ceed"
      },
      "execution_count": null,
      "outputs": [
        {
          "output_type": "execute_result",
          "data": {
            "text/plain": [
              "array([1.        , 1.66666667, 2.33333333, 3.        , 3.66666667,\n",
              "       4.33333333, 5.        , 5.66666667, 6.33333333, 7.        ])"
            ]
          },
          "metadata": {},
          "execution_count": 45
        }
      ]
    },
    {
      "cell_type": "markdown",
      "source": [
        "# **reshape function -> To change the shape of a predefined array**\n",
        "# **always try to keep the no of elements as constant like 4x3 to 3x4 or 6x2 means 12 elements are constant...you just cant reshape a 4x3 to 5x3**"
      ],
      "metadata": {
        "id": "YIPyyptHXAWC"
      }
    },
    {
      "cell_type": "code",
      "source": [
        "arr = np.random.random((4, 3))   #there's an array of size 4x3\n",
        "arr"
      ],
      "metadata": {
        "colab": {
          "base_uri": "https://localhost:8080/"
        },
        "id": "j9psu4PhXG3v",
        "outputId": "c32bae21-dd4c-4510-a8c2-41d99dca3322"
      },
      "execution_count": null,
      "outputs": [
        {
          "output_type": "execute_result",
          "data": {
            "text/plain": [
              "array([[0.02459713, 0.69228914, 0.21665348],\n",
              "       [0.58871786, 0.40397501, 0.58134546],\n",
              "       [0.32355206, 0.83831828, 0.15755696],\n",
              "       [0.84611842, 0.74079061, 0.23635376]])"
            ]
          },
          "metadata": {},
          "execution_count": 53
        }
      ]
    },
    {
      "cell_type": "code",
      "source": [
        "arr = np.reshape(arr, (6, 2))   #reshaping the array to 6x2\n",
        "arr"
      ],
      "metadata": {
        "colab": {
          "base_uri": "https://localhost:8080/"
        },
        "id": "UJ_2ThnjYxYj",
        "outputId": "7e17a6b5-677a-4976-cccc-42ae4a511740"
      },
      "execution_count": null,
      "outputs": [
        {
          "output_type": "execute_result",
          "data": {
            "text/plain": [
              "array([[0.02459713, 0.69228914],\n",
              "       [0.21665348, 0.58871786],\n",
              "       [0.40397501, 0.58134546],\n",
              "       [0.32355206, 0.83831828],\n",
              "       [0.15755696, 0.84611842],\n",
              "       [0.74079061, 0.23635376]])"
            ]
          },
          "metadata": {},
          "execution_count": 58
        }
      ]
    },
    {
      "cell_type": "code",
      "source": [
        "arr = np.reshape(arr, (3, 4))    #reshaping the array to 3x4\n",
        "arr"
      ],
      "metadata": {
        "colab": {
          "base_uri": "https://localhost:8080/"
        },
        "id": "3rxmTCmOXa99",
        "outputId": "2b1cb10d-4317-4c63-9bd7-8ad64f7b4be0"
      },
      "execution_count": null,
      "outputs": [
        {
          "output_type": "execute_result",
          "data": {
            "text/plain": [
              "array([[0.02459713, 0.69228914, 0.21665348, 0.58871786],\n",
              "       [0.40397501, 0.58134546, 0.32355206, 0.83831828],\n",
              "       [0.15755696, 0.84611842, 0.74079061, 0.23635376]])"
            ]
          },
          "metadata": {},
          "execution_count": 60
        }
      ]
    },
    {
      "cell_type": "markdown",
      "source": [
        "# **flatten function -> used to convert a multi dimensional array to single dimensional array, kind of linear array (single row)**"
      ],
      "metadata": {
        "id": "PsYyNz5faLrc"
      }
    },
    {
      "cell_type": "code",
      "source": [
        "arr.flatten()  #lastly arr was of 3x4 now it's single dimensional"
      ],
      "metadata": {
        "colab": {
          "base_uri": "https://localhost:8080/"
        },
        "id": "d_LVAIAEaW4y",
        "outputId": "81f653c2-706a-4a39-96b8-fc156eea12a6"
      },
      "execution_count": null,
      "outputs": [
        {
          "output_type": "execute_result",
          "data": {
            "text/plain": [
              "array([0.02459713, 0.69228914, 0.21665348, 0.58871786, 0.40397501,\n",
              "       0.58134546, 0.32355206, 0.83831828, 0.15755696, 0.84611842,\n",
              "       0.74079061, 0.23635376])"
            ]
          },
          "metadata": {},
          "execution_count": 61
        }
      ]
    }
  ]
}