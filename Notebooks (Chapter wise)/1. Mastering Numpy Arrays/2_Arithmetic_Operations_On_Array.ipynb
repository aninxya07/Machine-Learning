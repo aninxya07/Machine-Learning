{
  "nbformat": 4,
  "nbformat_minor": 0,
  "metadata": {
    "colab": {
      "provenance": []
    },
    "kernelspec": {
      "name": "python3",
      "display_name": "Python 3"
    },
    "language_info": {
      "name": "python"
    }
  },
  "cells": [
    {
      "cell_type": "markdown",
      "source": [
        "# **Importing numpy**"
      ],
      "metadata": {
        "id": "0xc4b8K5lBi_"
      }
    },
    {
      "cell_type": "code",
      "source": [
        "import numpy as np"
      ],
      "metadata": {
        "id": "IG7vU-abeEHI"
      },
      "execution_count": null,
      "outputs": []
    },
    {
      "cell_type": "code",
      "source": [
        "arr = np.array([1, 2, 3, 4, 5])\n",
        "arr"
      ],
      "metadata": {
        "colab": {
          "base_uri": "https://localhost:8080/"
        },
        "id": "lo5riUdvd_I5",
        "outputId": "adfdccba-12f1-4018-c182-6d491ad306cd"
      },
      "execution_count": null,
      "outputs": [
        {
          "output_type": "execute_result",
          "data": {
            "text/plain": [
              "array([1, 2, 3, 4, 5])"
            ]
          },
          "metadata": {},
          "execution_count": 2
        }
      ]
    },
    {
      "cell_type": "markdown",
      "source": [
        "# **Adding 1 to every element of the array**"
      ],
      "metadata": {
        "id": "VzdZlFrHd2Re"
      }
    },
    {
      "cell_type": "code",
      "execution_count": null,
      "metadata": {
        "colab": {
          "base_uri": "https://localhost:8080/"
        },
        "id": "yNIq1UOJdk_J",
        "outputId": "1a54672b-1b06-4354-9976-d1c1dcc13a78"
      },
      "outputs": [
        {
          "output_type": "execute_result",
          "data": {
            "text/plain": [
              "array([1, 2, 3, 4, 5])"
            ]
          },
          "metadata": {},
          "execution_count": 4
        }
      ],
      "source": [
        "arr + 1   # can be written as arr += 1 just like C/C++"
      ]
    },
    {
      "cell_type": "markdown",
      "source": [
        "# **Similarly,**"
      ],
      "metadata": {
        "id": "e_eMPmxZd1iH"
      }
    },
    {
      "cell_type": "code",
      "source": [
        "arr - 1"
      ],
      "metadata": {
        "colab": {
          "base_uri": "https://localhost:8080/"
        },
        "id": "LDxRiLCdeVta",
        "outputId": "d150fc7d-c43e-45e4-a35f-c12b70e96159"
      },
      "execution_count": null,
      "outputs": [
        {
          "output_type": "execute_result",
          "data": {
            "text/plain": [
              "array([0, 1, 2, 3, 4])"
            ]
          },
          "metadata": {},
          "execution_count": 5
        }
      ]
    },
    {
      "cell_type": "code",
      "source": [
        "arr * 2"
      ],
      "metadata": {
        "colab": {
          "base_uri": "https://localhost:8080/"
        },
        "id": "9JphOCpheXhf",
        "outputId": "7b5efebb-eedd-44e8-97ea-1c220aa41bc6"
      },
      "execution_count": null,
      "outputs": [
        {
          "output_type": "execute_result",
          "data": {
            "text/plain": [
              "array([ 2,  4,  6,  8, 10])"
            ]
          },
          "metadata": {},
          "execution_count": 6
        }
      ]
    },
    {
      "cell_type": "code",
      "source": [
        "arr / 2"
      ],
      "metadata": {
        "colab": {
          "base_uri": "https://localhost:8080/"
        },
        "id": "Fo4jDsZeeZm2",
        "outputId": "09ccf20b-dbb2-4c8c-e90b-3b861fd99675"
      },
      "execution_count": null,
      "outputs": [
        {
          "output_type": "execute_result",
          "data": {
            "text/plain": [
              "array([0.5, 1. , 1.5, 2. , 2.5])"
            ]
          },
          "metadata": {},
          "execution_count": 7
        }
      ]
    },
    {
      "cell_type": "code",
      "source": [
        "arr % 2"
      ],
      "metadata": {
        "colab": {
          "base_uri": "https://localhost:8080/"
        },
        "id": "BPe385Sve406",
        "outputId": "2c5692e0-4b0f-4bc5-e28c-e2492246c776"
      },
      "execution_count": null,
      "outputs": [
        {
          "output_type": "execute_result",
          "data": {
            "text/plain": [
              "array([1, 0, 1, 0, 1])"
            ]
          },
          "metadata": {},
          "execution_count": 8
        }
      ]
    },
    {
      "cell_type": "code",
      "source": [
        "arr ** 2  #square of every element"
      ],
      "metadata": {
        "colab": {
          "base_uri": "https://localhost:8080/"
        },
        "id": "h72MEctNfCcU",
        "outputId": "fa6405e0-3b24-440c-b33f-7a23e748580d"
      },
      "execution_count": null,
      "outputs": [
        {
          "output_type": "execute_result",
          "data": {
            "text/plain": [
              "array([ 1,  4,  9, 16, 25])"
            ]
          },
          "metadata": {},
          "execution_count": 11
        }
      ]
    },
    {
      "cell_type": "code",
      "source": [
        "arr  #let's print the array once, we've not saved any previous operations into the array so it's unchanged like the initial"
      ],
      "metadata": {
        "colab": {
          "base_uri": "https://localhost:8080/"
        },
        "id": "kiAmKx9Rf3fp",
        "outputId": "978ef6f9-c16b-433c-b46e-885affc26a36"
      },
      "execution_count": null,
      "outputs": [
        {
          "output_type": "execute_result",
          "data": {
            "text/plain": [
              "array([1, 2, 3, 4, 5])"
            ]
          },
          "metadata": {},
          "execution_count": 14
        }
      ]
    },
    {
      "cell_type": "markdown",
      "source": [
        "# **max function**"
      ],
      "metadata": {
        "id": "3ne4mQhsfxbc"
      }
    },
    {
      "cell_type": "code",
      "source": [
        "arr.max()"
      ],
      "metadata": {
        "colab": {
          "base_uri": "https://localhost:8080/"
        },
        "id": "vIHur1JHf0ev",
        "outputId": "e5dac52d-689f-4514-ba6d-2daefec8474c"
      },
      "execution_count": null,
      "outputs": [
        {
          "output_type": "execute_result",
          "data": {
            "text/plain": [
              "5"
            ]
          },
          "metadata": {},
          "execution_count": 12
        }
      ]
    },
    {
      "cell_type": "markdown",
      "source": [
        "# **min function**"
      ],
      "metadata": {
        "id": "cGUuEfFigLIB"
      }
    },
    {
      "cell_type": "code",
      "source": [
        "arr.min()"
      ],
      "metadata": {
        "colab": {
          "base_uri": "https://localhost:8080/"
        },
        "id": "B8gmK1JvgHV2",
        "outputId": "f51fa243-3ea9-4982-f6a2-0d95f91d897d"
      },
      "execution_count": null,
      "outputs": [
        {
          "output_type": "execute_result",
          "data": {
            "text/plain": [
              "1"
            ]
          },
          "metadata": {},
          "execution_count": 15
        }
      ]
    },
    {
      "cell_type": "markdown",
      "source": [
        "# **Creating a multi dimensional array**"
      ],
      "metadata": {
        "id": "wEuEPeW3jIX5"
      }
    },
    {
      "cell_type": "code",
      "source": [
        "arr = np.array([[1, 2, 3],     #defining a list & converting it to numpy array\n",
        "                [4, 5, 6],\n",
        "                [7, 8, 9]])\n",
        "arr"
      ],
      "metadata": {
        "colab": {
          "base_uri": "https://localhost:8080/"
        },
        "id": "-qNjs3Imgomb",
        "outputId": "6d4261c7-14f0-415a-889b-d10b0bb8c4b4"
      },
      "execution_count": null,
      "outputs": [
        {
          "output_type": "execute_result",
          "data": {
            "text/plain": [
              "array([[1, 2, 3],\n",
              "       [4, 5, 6],\n",
              "       [7, 8, 9]])"
            ]
          },
          "metadata": {},
          "execution_count": 21
        }
      ]
    },
    {
      "cell_type": "markdown",
      "source": [
        "# **max in multidimensional array**"
      ],
      "metadata": {
        "id": "ed9KPht-gkCb"
      }
    },
    {
      "cell_type": "code",
      "source": [
        "arr.max(axis = 0)  #when axis=0, it'll give max elements from each col\n",
        "                   #like in first col, max=7\n",
        "                   #in second col, max=8\n",
        "                   #in third col, max=9"
      ],
      "metadata": {
        "colab": {
          "base_uri": "https://localhost:8080/"
        },
        "id": "y65RD5O_gxQL",
        "outputId": "6fc5a3bd-fde2-409e-e27d-f728c5bf0f22"
      },
      "execution_count": null,
      "outputs": [
        {
          "output_type": "execute_result",
          "data": {
            "text/plain": [
              "array([7, 8, 9])"
            ]
          },
          "metadata": {},
          "execution_count": 20
        }
      ]
    },
    {
      "cell_type": "code",
      "source": [
        "arr.max(axis = 1)  #when axis=1, it'll give max elements from each row\n",
        "                   #like in first row, max=3\n",
        "                   #in second row, max=6\n",
        "                   #in third row, max=9"
      ],
      "metadata": {
        "colab": {
          "base_uri": "https://localhost:8080/"
        },
        "id": "gdnUNFqvhyBS",
        "outputId": "09667816-2106-4163-b541-44044fe2667e"
      },
      "execution_count": null,
      "outputs": [
        {
          "output_type": "execute_result",
          "data": {
            "text/plain": [
              "array([3, 6, 9])"
            ]
          },
          "metadata": {},
          "execution_count": 22
        }
      ]
    },
    {
      "cell_type": "code",
      "source": [
        "arr"
      ],
      "metadata": {
        "colab": {
          "base_uri": "https://localhost:8080/"
        },
        "id": "rstelXQwjf9Z",
        "outputId": "21ca17c0-0cc5-47b2-97bc-96790451e643"
      },
      "execution_count": null,
      "outputs": [
        {
          "output_type": "execute_result",
          "data": {
            "text/plain": [
              "array([[1, 2, 3],\n",
              "       [4, 5, 6],\n",
              "       [7, 8, 9]])"
            ]
          },
          "metadata": {},
          "execution_count": 23
        }
      ]
    },
    {
      "cell_type": "markdown",
      "source": [
        "# **min in multidimensional array**"
      ],
      "metadata": {
        "id": "c5_DsD4ZjRlZ"
      }
    },
    {
      "cell_type": "code",
      "source": [
        "arr.min(axis = 0)  #when axis=0, it'll give min elements from each col\n",
        "                   #like in first col, min=1\n",
        "                   #in second col, min=2\n",
        "                   #in third col, min=3"
      ],
      "metadata": {
        "colab": {
          "base_uri": "https://localhost:8080/"
        },
        "id": "OIs8AiFYjach",
        "outputId": "b60b3722-8a43-41d2-f9c8-c71fbe057e0e"
      },
      "execution_count": null,
      "outputs": [
        {
          "output_type": "execute_result",
          "data": {
            "text/plain": [
              "array([1, 2, 3])"
            ]
          },
          "metadata": {},
          "execution_count": 24
        }
      ]
    },
    {
      "cell_type": "code",
      "source": [
        "arr.min(axis = 1)  #when axis=1, it'll give min elements from each row\n",
        "                   #like in first row, min=1\n",
        "                   #in second row, min=4\n",
        "                   #in third row, min=7"
      ],
      "metadata": {
        "colab": {
          "base_uri": "https://localhost:8080/"
        },
        "id": "J1FxV51Yjkgo",
        "outputId": "781aeacc-8fab-4328-93b1-76ff30dce776"
      },
      "execution_count": null,
      "outputs": [
        {
          "output_type": "execute_result",
          "data": {
            "text/plain": [
              "array([1, 4, 7])"
            ]
          },
          "metadata": {},
          "execution_count": 25
        }
      ]
    },
    {
      "cell_type": "markdown",
      "source": [
        "# **Sum of all elements**"
      ],
      "metadata": {
        "id": "RWpOGhqVjyMH"
      }
    },
    {
      "cell_type": "code",
      "source": [
        "arr.sum()"
      ],
      "metadata": {
        "colab": {
          "base_uri": "https://localhost:8080/"
        },
        "id": "dkE7a_PWj1AJ",
        "outputId": "3a64fa86-9049-4182-89bf-6945d498b435"
      },
      "execution_count": null,
      "outputs": [
        {
          "output_type": "execute_result",
          "data": {
            "text/plain": [
              "45"
            ]
          },
          "metadata": {},
          "execution_count": 26
        }
      ]
    }
  ]
}