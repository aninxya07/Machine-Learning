{
  "nbformat": 4,
  "nbformat_minor": 0,
  "metadata": {
    "colab": {
      "provenance": []
    },
    "kernelspec": {
      "name": "python3",
      "display_name": "Python 3"
    },
    "language_info": {
      "name": "python"
    }
  },
  "cells": [
    {
      "cell_type": "markdown",
      "source": [
        "# **Importing numpy**"
      ],
      "metadata": {
        "id": "KTLsGDCcrXei"
      }
    },
    {
      "cell_type": "code",
      "execution_count": 2,
      "metadata": {
        "id": "x_OqWmczrUnQ"
      },
      "outputs": [],
      "source": [
        "import numpy as np"
      ]
    },
    {
      "cell_type": "markdown",
      "source": [
        "# **Creating two 2 dimensional arrays**"
      ],
      "metadata": {
        "id": "M97eQKeJrcIe"
      }
    },
    {
      "cell_type": "code",
      "source": [
        "arr1 = np.array([[1, 2, 3, 4], [5, 6, 7, 8]])\n",
        "arr2 = np.array([[8, 7, 6, 5], [4, 3, 2, 1]])"
      ],
      "metadata": {
        "id": "mvSen4kdrlrH"
      },
      "execution_count": 3,
      "outputs": []
    },
    {
      "cell_type": "code",
      "source": [
        "arr1"
      ],
      "metadata": {
        "colab": {
          "base_uri": "https://localhost:8080/"
        },
        "id": "w0zzKQ8Sr7aF",
        "outputId": "ca4e4615-3c04-47a9-bb89-511afe284432"
      },
      "execution_count": 4,
      "outputs": [
        {
          "output_type": "execute_result",
          "data": {
            "text/plain": [
              "array([[1, 2, 3, 4],\n",
              "       [5, 6, 7, 8]])"
            ]
          },
          "metadata": {},
          "execution_count": 4
        }
      ]
    },
    {
      "cell_type": "code",
      "source": [
        "arr2"
      ],
      "metadata": {
        "colab": {
          "base_uri": "https://localhost:8080/"
        },
        "id": "NZK2ttZyr9pr",
        "outputId": "e997425b-dc06-48d4-a789-b82e29b4a9af"
      },
      "execution_count": 5,
      "outputs": [
        {
          "output_type": "execute_result",
          "data": {
            "text/plain": [
              "array([[8, 7, 6, 5],\n",
              "       [4, 3, 2, 1]])"
            ]
          },
          "metadata": {},
          "execution_count": 5
        }
      ]
    },
    {
      "cell_type": "markdown",
      "source": [
        "# **For Merging we've hstack & vstack function**"
      ],
      "metadata": {
        "id": "7SQGAMMqsqHh"
      }
    },
    {
      "cell_type": "markdown",
      "source": [
        "# **vstack -> merges two arrays vertically**"
      ],
      "metadata": {
        "id": "ZLPPOYKFswap"
      }
    },
    {
      "cell_type": "code",
      "source": [
        "np.vstack((arr1, arr2))    #arr1 will end then arr2"
      ],
      "metadata": {
        "colab": {
          "base_uri": "https://localhost:8080/"
        },
        "id": "uymlqxp5s1DN",
        "outputId": "7700ab60-e00e-4aaa-9324-7b7c4ea82326"
      },
      "execution_count": 6,
      "outputs": [
        {
          "output_type": "execute_result",
          "data": {
            "text/plain": [
              "array([[1, 2, 3, 4],\n",
              "       [5, 6, 7, 8],\n",
              "       [8, 7, 6, 5],\n",
              "       [4, 3, 2, 1]])"
            ]
          },
          "metadata": {},
          "execution_count": 6
        }
      ]
    },
    {
      "cell_type": "code",
      "source": [
        "np.vstack((arr2, arr1))   #arr2 will end then arr1"
      ],
      "metadata": {
        "colab": {
          "base_uri": "https://localhost:8080/"
        },
        "id": "s4OhJhaGs3in",
        "outputId": "af0c66e6-949f-4e72-e2fa-9ab7e148a6fb"
      },
      "execution_count": 7,
      "outputs": [
        {
          "output_type": "execute_result",
          "data": {
            "text/plain": [
              "array([[8, 7, 6, 5],\n",
              "       [4, 3, 2, 1],\n",
              "       [1, 2, 3, 4],\n",
              "       [5, 6, 7, 8]])"
            ]
          },
          "metadata": {},
          "execution_count": 7
        }
      ]
    },
    {
      "cell_type": "markdown",
      "source": [
        "# **hstack -> merges two arrays horizontally**"
      ],
      "metadata": {
        "id": "9SEtheZFtEL9"
      }
    },
    {
      "cell_type": "code",
      "source": [
        "np.hstack((arr1, arr2))     #from the middle, left portion is arr1 & right portion is arr2"
      ],
      "metadata": {
        "colab": {
          "base_uri": "https://localhost:8080/"
        },
        "id": "P18Jk7hEs-ov",
        "outputId": "3ac44351-d583-4f34-db2c-953dbd0a16de"
      },
      "execution_count": 8,
      "outputs": [
        {
          "output_type": "execute_result",
          "data": {
            "text/plain": [
              "array([[1, 2, 3, 4, 8, 7, 6, 5],\n",
              "       [5, 6, 7, 8, 4, 3, 2, 1]])"
            ]
          },
          "metadata": {},
          "execution_count": 8
        }
      ]
    },
    {
      "cell_type": "code",
      "source": [
        "np.hstack((arr2, arr1))     #from the middle, left portion is arr2 & right portion is arr1"
      ],
      "metadata": {
        "colab": {
          "base_uri": "https://localhost:8080/"
        },
        "id": "XH0f-QlktPhB",
        "outputId": "ff8a5bf8-541b-4af1-ece1-9a99b7aaecb7"
      },
      "execution_count": 9,
      "outputs": [
        {
          "output_type": "execute_result",
          "data": {
            "text/plain": [
              "array([[8, 7, 6, 5, 1, 2, 3, 4],\n",
              "       [4, 3, 2, 1, 5, 6, 7, 8]])"
            ]
          },
          "metadata": {},
          "execution_count": 9
        }
      ]
    },
    {
      "cell_type": "markdown",
      "source": [
        "# **Merging using concatenate function**"
      ],
      "metadata": {
        "id": "AMtr4jVTt3ci"
      }
    },
    {
      "cell_type": "code",
      "source": [
        "arr1"
      ],
      "metadata": {
        "colab": {
          "base_uri": "https://localhost:8080/"
        },
        "id": "-M1dCdnyuH36",
        "outputId": "09a5e479-94d7-48a8-cdbb-f37e35489925"
      },
      "execution_count": 10,
      "outputs": [
        {
          "output_type": "execute_result",
          "data": {
            "text/plain": [
              "array([[1, 2, 3, 4],\n",
              "       [5, 6, 7, 8]])"
            ]
          },
          "metadata": {},
          "execution_count": 10
        }
      ]
    },
    {
      "cell_type": "code",
      "source": [
        "arr2"
      ],
      "metadata": {
        "colab": {
          "base_uri": "https://localhost:8080/"
        },
        "id": "6Mk-_y76uJ8X",
        "outputId": "e800720a-5eb9-4707-dadb-ea7c4591e83c"
      },
      "execution_count": 11,
      "outputs": [
        {
          "output_type": "execute_result",
          "data": {
            "text/plain": [
              "array([[8, 7, 6, 5],\n",
              "       [4, 3, 2, 1]])"
            ]
          },
          "metadata": {},
          "execution_count": 11
        }
      ]
    },
    {
      "cell_type": "markdown",
      "source": [
        "# ****horizontal or col wise manner concatenation****"
      ],
      "metadata": {
        "id": "P5JtCFf6t8MJ"
      }
    },
    {
      "cell_type": "code",
      "source": [
        "np.concatenate((arr1, arr2), axis=0)"
      ],
      "metadata": {
        "colab": {
          "base_uri": "https://localhost:8080/"
        },
        "id": "b_6ikzHBtUlb",
        "outputId": "f56083af-b563-4a14-fc38-29e4b6341b05"
      },
      "execution_count": 12,
      "outputs": [
        {
          "output_type": "execute_result",
          "data": {
            "text/plain": [
              "array([[1, 2, 3, 4],\n",
              "       [5, 6, 7, 8],\n",
              "       [8, 7, 6, 5],\n",
              "       [4, 3, 2, 1]])"
            ]
          },
          "metadata": {},
          "execution_count": 12
        }
      ]
    },
    {
      "cell_type": "code",
      "source": [
        "np.concatenate((arr2, arr1), axis=0)"
      ],
      "metadata": {
        "colab": {
          "base_uri": "https://localhost:8080/"
        },
        "id": "9gkn6kF_uLnc",
        "outputId": "03ad369a-7a57-49e1-fb7e-2ed83f91873c"
      },
      "execution_count": 13,
      "outputs": [
        {
          "output_type": "execute_result",
          "data": {
            "text/plain": [
              "array([[8, 7, 6, 5],\n",
              "       [4, 3, 2, 1],\n",
              "       [1, 2, 3, 4],\n",
              "       [5, 6, 7, 8]])"
            ]
          },
          "metadata": {},
          "execution_count": 13
        }
      ]
    },
    {
      "cell_type": "markdown",
      "source": [
        "# ****vertical or row wise manner concatenation****"
      ],
      "metadata": {
        "id": "_WsBxR38uRxl"
      }
    },
    {
      "cell_type": "code",
      "source": [
        "np.concatenate((arr1, arr2), axis=1)"
      ],
      "metadata": {
        "colab": {
          "base_uri": "https://localhost:8080/"
        },
        "id": "Wmutd-fuuQef",
        "outputId": "2e803e6a-3561-456a-85be-93cbff6ee547"
      },
      "execution_count": 14,
      "outputs": [
        {
          "output_type": "execute_result",
          "data": {
            "text/plain": [
              "array([[1, 2, 3, 4, 8, 7, 6, 5],\n",
              "       [5, 6, 7, 8, 4, 3, 2, 1]])"
            ]
          },
          "metadata": {},
          "execution_count": 14
        }
      ]
    },
    {
      "cell_type": "code",
      "source": [
        "np.concatenate((arr2, arr1), axis=1)"
      ],
      "metadata": {
        "colab": {
          "base_uri": "https://localhost:8080/"
        },
        "id": "NeIWxShkuW8B",
        "outputId": "446f80f2-95db-4905-986d-9c602175f5a7"
      },
      "execution_count": 15,
      "outputs": [
        {
          "output_type": "execute_result",
          "data": {
            "text/plain": [
              "array([[8, 7, 6, 5, 1, 2, 3, 4],\n",
              "       [4, 3, 2, 1, 5, 6, 7, 8]])"
            ]
          },
          "metadata": {},
          "execution_count": 15
        }
      ]
    },
    {
      "cell_type": "markdown",
      "source": [
        "# ****By default the axis is set to 0 means col wise concatenation it'll do****\n",
        "# ****Also storing the result as a new array for future referencing****"
      ],
      "metadata": {
        "id": "_HXC2gdNugfQ"
      }
    },
    {
      "cell_type": "code",
      "source": [
        "res = np.concatenate((arr1, arr2))\n",
        "res"
      ],
      "metadata": {
        "colab": {
          "base_uri": "https://localhost:8080/"
        },
        "id": "pJzaZnyHuZQm",
        "outputId": "8828882c-70a2-4249-8c7e-cb5fa0f96a18"
      },
      "execution_count": 18,
      "outputs": [
        {
          "output_type": "execute_result",
          "data": {
            "text/plain": [
              "array([[1, 2, 3, 4],\n",
              "       [5, 6, 7, 8],\n",
              "       [8, 7, 6, 5],\n",
              "       [4, 3, 2, 1]])"
            ]
          },
          "metadata": {},
          "execution_count": 18
        }
      ]
    },
    {
      "cell_type": "markdown",
      "source": [
        "# **Spliting a numpy array**"
      ],
      "metadata": {
        "id": "KFs-6H5BvHDQ"
      }
    },
    {
      "cell_type": "markdown",
      "source": [
        "# ****vertical or row wise splitting****"
      ],
      "metadata": {
        "id": "c6yN6aaCvt7p"
      }
    },
    {
      "cell_type": "code",
      "source": [
        "np.vsplit(res, 2)     #parameters: 1.name of the array to be splitted, 2.how many parts it'll get splitted here it's 2"
      ],
      "metadata": {
        "colab": {
          "base_uri": "https://localhost:8080/"
        },
        "id": "AXJpiBNIuo8f",
        "outputId": "07decb77-d079-48d0-e72f-85ee572eb491"
      },
      "execution_count": 24,
      "outputs": [
        {
          "output_type": "execute_result",
          "data": {
            "text/plain": [
              "[array([[1, 2, 3, 4],\n",
              "        [5, 6, 7, 8]]),\n",
              " array([[8, 7, 6, 5],\n",
              "        [4, 3, 2, 1]])]"
            ]
          },
          "metadata": {},
          "execution_count": 24
        }
      ]
    },
    {
      "cell_type": "code",
      "source": [
        "np.vsplit(res, 4)     #splitting in 4 equal parts...if we take this as 3 it'll show error bcz of inequal split"
      ],
      "metadata": {
        "colab": {
          "base_uri": "https://localhost:8080/"
        },
        "id": "_vWz7ZbgvRH0",
        "outputId": "2e8ef929-b0e7-42be-a37c-74ae77f5900e"
      },
      "execution_count": 25,
      "outputs": [
        {
          "output_type": "execute_result",
          "data": {
            "text/plain": [
              "[array([[1, 2, 3, 4]]),\n",
              " array([[5, 6, 7, 8]]),\n",
              " array([[8, 7, 6, 5]]),\n",
              " array([[4, 3, 2, 1]])]"
            ]
          },
          "metadata": {},
          "execution_count": 25
        }
      ]
    },
    {
      "cell_type": "markdown",
      "source": [
        "# ****horizontal or col wise splitting****"
      ],
      "metadata": {
        "id": "7KaptfqRwAhz"
      }
    },
    {
      "cell_type": "code",
      "source": [
        "np.hsplit(res, 2)"
      ],
      "metadata": {
        "colab": {
          "base_uri": "https://localhost:8080/"
        },
        "id": "f8RnpQ--vs5G",
        "outputId": "f90f9c17-e145-40aa-8c56-b570d9579aad"
      },
      "execution_count": 26,
      "outputs": [
        {
          "output_type": "execute_result",
          "data": {
            "text/plain": [
              "[array([[1, 2],\n",
              "        [5, 6],\n",
              "        [8, 7],\n",
              "        [4, 3]]),\n",
              " array([[3, 4],\n",
              "        [7, 8],\n",
              "        [6, 5],\n",
              "        [2, 1]])]"
            ]
          },
          "metadata": {},
          "execution_count": 26
        }
      ]
    },
    {
      "cell_type": "code",
      "source": [
        "np.hsplit(res, 4)"
      ],
      "metadata": {
        "colab": {
          "base_uri": "https://localhost:8080/"
        },
        "id": "P07lLmgnwGyV",
        "outputId": "fee06f06-d562-4f5b-b5a3-057c8ed52171"
      },
      "execution_count": 27,
      "outputs": [
        {
          "output_type": "execute_result",
          "data": {
            "text/plain": [
              "[array([[1],\n",
              "        [5],\n",
              "        [8],\n",
              "        [4]]),\n",
              " array([[2],\n",
              "        [6],\n",
              "        [7],\n",
              "        [3]]),\n",
              " array([[3],\n",
              "        [7],\n",
              "        [6],\n",
              "        [2]]),\n",
              " array([[4],\n",
              "        [8],\n",
              "        [5],\n",
              "        [1]])]"
            ]
          },
          "metadata": {},
          "execution_count": 27
        }
      ]
    },
    {
      "cell_type": "code",
      "source": [],
      "metadata": {
        "id": "kxF-_mZewKg8"
      },
      "execution_count": null,
      "outputs": []
    }
  ]
}