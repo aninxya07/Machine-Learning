{
  "nbformat": 4,
  "nbformat_minor": 0,
  "metadata": {
    "colab": {
      "provenance": []
    },
    "kernelspec": {
      "name": "python3",
      "display_name": "Python 3"
    },
    "language_info": {
      "name": "python"
    }
  },
  "cells": [
    {
      "cell_type": "markdown",
      "source": [
        "# **Importing numpy**"
      ],
      "metadata": {
        "id": "0od9syuflu-1"
      }
    },
    {
      "cell_type": "code",
      "execution_count": 46,
      "metadata": {
        "id": "akhjHpyDleso"
      },
      "outputs": [],
      "source": [
        "import numpy as np"
      ]
    },
    {
      "cell_type": "markdown",
      "source": [
        "# **Creating two 2 dimensional arrays**"
      ],
      "metadata": {
        "id": "DB7dsQmiwrfw"
      }
    },
    {
      "cell_type": "code",
      "source": [
        "arr1 = np.array([[1, 2, 3],\n",
        "                [4, 5, 6],\n",
        "                [7, 8, 9]])"
      ],
      "metadata": {
        "id": "cFxbooLcwaJp"
      },
      "execution_count": 47,
      "outputs": []
    },
    {
      "cell_type": "code",
      "source": [
        "arr1"
      ],
      "metadata": {
        "colab": {
          "base_uri": "https://localhost:8080/"
        },
        "id": "eKXgfwV6w5dg",
        "outputId": "9a2c2316-51dd-4aea-d63b-6d132d8ddde9"
      },
      "execution_count": null,
      "outputs": [
        {
          "output_type": "execute_result",
          "data": {
            "text/plain": [
              "array([[1, 2, 3],\n",
              "       [4, 5, 6],\n",
              "       [7, 8, 9]])"
            ]
          },
          "metadata": {},
          "execution_count": 17
        }
      ]
    },
    {
      "cell_type": "code",
      "source": [
        "arr2 = np.array([[9, 8, 7],\n",
        "                [6, 5, 4],\n",
        "                [3, 2, 1]])"
      ],
      "metadata": {
        "id": "VF5u2Dpswjur"
      },
      "execution_count": 48,
      "outputs": []
    },
    {
      "cell_type": "code",
      "source": [
        "arr2"
      ],
      "metadata": {
        "colab": {
          "base_uri": "https://localhost:8080/"
        },
        "id": "5zliJnYsw6mY",
        "outputId": "1d48fabe-845c-4f27-ee22-7759b67d5ed8"
      },
      "execution_count": null,
      "outputs": [
        {
          "output_type": "execute_result",
          "data": {
            "text/plain": [
              "array([[9, 8, 7],\n",
              "       [6, 5, 4],\n",
              "       [3, 2, 1]])"
            ]
          },
          "metadata": {},
          "execution_count": 15
        }
      ]
    },
    {
      "cell_type": "markdown",
      "source": [
        "# **Performing addition on same dimensional arrays**"
      ],
      "metadata": {
        "id": "0qN0uWjWyXA_"
      }
    },
    {
      "cell_type": "code",
      "source": [
        "arr1 + arr2      #both the matrices are (3x3)"
      ],
      "metadata": {
        "colab": {
          "base_uri": "https://localhost:8080/"
        },
        "id": "a7kyDvvlybxH",
        "outputId": "9c8fdd7f-ae56-4275-b407-8674ab197846"
      },
      "execution_count": null,
      "outputs": [
        {
          "output_type": "execute_result",
          "data": {
            "text/plain": [
              "array([[10, 10, 10],\n",
              "       [10, 10, 10],\n",
              "       [10, 10, 10]])"
            ]
          },
          "metadata": {},
          "execution_count": 18
        }
      ]
    },
    {
      "cell_type": "markdown",
      "source": [
        "# **Defining another array with different dimension**"
      ],
      "metadata": {
        "id": "HS61lwGByf0X"
      }
    },
    {
      "cell_type": "code",
      "source": [
        "arr3 = np.array([[1, 2, 3, 4],\n",
        "                 [5, 6, 7, 8],\n",
        "                 [9, 10, 11, 12]])"
      ],
      "metadata": {
        "id": "DS4puK-Myj-X"
      },
      "execution_count": null,
      "outputs": []
    },
    {
      "cell_type": "code",
      "source": [
        "arr1 + arr3    # (3x3) matrix + (3x4) matrix can't be performed"
      ],
      "metadata": {
        "colab": {
          "base_uri": "https://localhost:8080/",
          "height": 141
        },
        "id": "WBEcEeieyrNz",
        "outputId": "9a33cc91-bda3-46dc-ff50-c3885474ea68"
      },
      "execution_count": null,
      "outputs": [
        {
          "output_type": "error",
          "ename": "NameError",
          "evalue": "name 'arr3' is not defined",
          "traceback": [
            "\u001b[0;31m---------------------------------------------------------------------------\u001b[0m",
            "\u001b[0;31mNameError\u001b[0m                                 Traceback (most recent call last)",
            "\u001b[0;32m<ipython-input-19-5c1d0d5f44ad>\u001b[0m in \u001b[0;36m<cell line: 1>\u001b[0;34m()\u001b[0m\n\u001b[0;32m----> 1\u001b[0;31m \u001b[0marr1\u001b[0m \u001b[0;34m+\u001b[0m \u001b[0marr3\u001b[0m    \u001b[0;31m# (3x3) matrix + (3x4) matrix can't be performed\u001b[0m\u001b[0;34m\u001b[0m\u001b[0;34m\u001b[0m\u001b[0m\n\u001b[0m",
            "\u001b[0;31mNameError\u001b[0m: name 'arr3' is not defined"
          ]
        }
      ]
    },
    {
      "cell_type": "markdown",
      "source": [
        "# **Same goes for subtraction, multiplication operation**\n",
        "# **can only be performed b/w same dimensional arrays**"
      ],
      "metadata": {
        "id": "3t7kPsRuy7bY"
      }
    },
    {
      "cell_type": "code",
      "source": [
        "arr1"
      ],
      "metadata": {
        "colab": {
          "base_uri": "https://localhost:8080/"
        },
        "id": "JGmBRjxTChuR",
        "outputId": "bcbd88e8-8295-494a-e00c-91af771e676d"
      },
      "execution_count": 49,
      "outputs": [
        {
          "output_type": "execute_result",
          "data": {
            "text/plain": [
              "array([[1, 2, 3],\n",
              "       [4, 5, 6],\n",
              "       [7, 8, 9]])"
            ]
          },
          "metadata": {},
          "execution_count": 49
        }
      ]
    },
    {
      "cell_type": "code",
      "source": [
        "arr2"
      ],
      "metadata": {
        "colab": {
          "base_uri": "https://localhost:8080/"
        },
        "id": "BrRKus4HCmLA",
        "outputId": "312540ed-e1ef-4246-ac0a-f01590795812"
      },
      "execution_count": 50,
      "outputs": [
        {
          "output_type": "execute_result",
          "data": {
            "text/plain": [
              "array([[9, 8, 7],\n",
              "       [6, 5, 4],\n",
              "       [3, 2, 1]])"
            ]
          },
          "metadata": {},
          "execution_count": 50
        }
      ]
    },
    {
      "cell_type": "markdown",
      "source": [
        "# **Performing multiplication on same dimensional arrays**"
      ],
      "metadata": {
        "id": "80IWPXjQzcMG"
      }
    },
    {
      "cell_type": "code",
      "source": [
        "arr1 * arr2"
      ],
      "metadata": {
        "colab": {
          "base_uri": "https://localhost:8080/"
        },
        "id": "vQLreuN7zLIo",
        "outputId": "cdf8e5c8-30fb-42de-ca54-9eb43a0e66a5"
      },
      "execution_count": null,
      "outputs": [
        {
          "output_type": "execute_result",
          "data": {
            "text/plain": [
              "array([[ 9, 16, 21],\n",
              "       [24, 25, 24],\n",
              "       [21, 16,  9]])"
            ]
          },
          "metadata": {},
          "execution_count": 20
        }
      ]
    },
    {
      "cell_type": "code",
      "source": [
        "arr1"
      ],
      "metadata": {
        "colab": {
          "base_uri": "https://localhost:8080/"
        },
        "id": "xiHaO8G63PL6",
        "outputId": "b4278eff-7fb8-428d-ae20-ab2f9da54cff"
      },
      "execution_count": null,
      "outputs": [
        {
          "output_type": "execute_result",
          "data": {
            "text/plain": [
              "array([[1, 2, 3],\n",
              "       [4, 5, 6],\n",
              "       [7, 8, 9]])"
            ]
          },
          "metadata": {},
          "execution_count": 21
        }
      ]
    },
    {
      "cell_type": "code",
      "source": [
        "arr2"
      ],
      "metadata": {
        "colab": {
          "base_uri": "https://localhost:8080/"
        },
        "id": "uJ0g4aq53QVq",
        "outputId": "f1a6f577-6790-4668-e42e-ca915dc46b15"
      },
      "execution_count": null,
      "outputs": [
        {
          "output_type": "execute_result",
          "data": {
            "text/plain": [
              "array([[9, 8, 7],\n",
              "       [6, 5, 4],\n",
              "       [3, 2, 1]])"
            ]
          },
          "metadata": {},
          "execution_count": 22
        }
      ]
    },
    {
      "cell_type": "markdown",
      "source": [
        "# **Performing dot Operation**"
      ],
      "metadata": {
        "id": "OLM7_7Ne3R1S"
      }
    },
    {
      "cell_type": "code",
      "source": [
        "arr1.dot(arr2)      # (1*9) + (2*6) + (3*3) = 30 -> (r1,c1)\n",
        "                    # (4*9) + (5*6) + (6*3) = 84 -> (r2, c1)\n",
        "                    # (7*9) + (8*6) + (9*3) = 138 -> (r3, c1)"
      ],
      "metadata": {
        "colab": {
          "base_uri": "https://localhost:8080/"
        },
        "id": "vfPE7kc43VtK",
        "outputId": "8f6ce7dc-7aec-4710-fb3f-aebf3d7a5cab"
      },
      "execution_count": null,
      "outputs": [
        {
          "output_type": "execute_result",
          "data": {
            "text/plain": [
              "array([[ 30,  24,  18],\n",
              "       [ 84,  69,  54],\n",
              "       [138, 114,  90]])"
            ]
          },
          "metadata": {},
          "execution_count": 23
        }
      ]
    },
    {
      "cell_type": "code",
      "source": [
        "arr2.dot(arr1)    # arr1.dot(arr2) is not same as arr2.dot(arr1)"
      ],
      "metadata": {
        "colab": {
          "base_uri": "https://localhost:8080/"
        },
        "id": "1YEi2Kyz4GnW",
        "outputId": "be34cfa4-b0d3-4ac6-944b-071c6bedcf31"
      },
      "execution_count": null,
      "outputs": [
        {
          "output_type": "execute_result",
          "data": {
            "text/plain": [
              "array([[ 90, 114, 138],\n",
              "       [ 54,  69,  84],\n",
              "       [ 18,  24,  30]])"
            ]
          },
          "metadata": {},
          "execution_count": 24
        }
      ]
    },
    {
      "cell_type": "markdown",
      "source": [
        "# **Indexing in array**"
      ],
      "metadata": {
        "id": "wxQGNuiy4chx"
      }
    },
    {
      "cell_type": "code",
      "source": [
        "res = np.array([1, 2, 3, 4, 5])  #left to right index -> 0, 1, 2, 3,....\n",
        "                                 #right to left index -> ..., -3, -2, -1"
      ],
      "metadata": {
        "id": "5-_H5dl64gwK"
      },
      "execution_count": null,
      "outputs": []
    },
    {
      "cell_type": "code",
      "source": [
        "print(res[:])       #printing all the elements\n",
        "\n",
        "print(res[:1])      #prints only the first element\n",
        "\n",
        "print(res[:3])      #prints from 0th to 2nd index\n",
        "\n",
        "print(res[2:])      #prints from 2nd index till the end\n",
        "\n",
        "print(res[:-1])     #prints excepts the last index\n",
        "\n",
        "print(res[:-2])     #prints except the last 2 indexes\n",
        "\n",
        "print(res[2:4])     #starting from 2nd index, prints upto 3rd index (always end-1)"
      ],
      "metadata": {
        "colab": {
          "base_uri": "https://localhost:8080/"
        },
        "id": "eSxqpZ3K4o7k",
        "outputId": "121bd8d7-8907-4ce7-cc33-6f7d355ff201"
      },
      "execution_count": null,
      "outputs": [
        {
          "output_type": "stream",
          "name": "stdout",
          "text": [
            "[1 2 3 4 5]\n",
            "[1]\n",
            "[1 2 3]\n",
            "[3 4 5]\n",
            "[1 2 3 4]\n",
            "[1 2 3]\n",
            "[3 4]\n"
          ]
        }
      ]
    },
    {
      "cell_type": "markdown",
      "source": [
        "# **Indexing in multi dimensional array**"
      ],
      "metadata": {
        "id": "QbyshYbt6gSs"
      }
    },
    {
      "cell_type": "code",
      "source": [
        "arr1"
      ],
      "metadata": {
        "colab": {
          "base_uri": "https://localhost:8080/"
        },
        "id": "ennbSVvt6lMG",
        "outputId": "2cba0e5a-7c3e-468a-b641-e60ebf233b0f"
      },
      "execution_count": null,
      "outputs": [
        {
          "output_type": "execute_result",
          "data": {
            "text/plain": [
              "array([[1, 2, 3],\n",
              "       [4, 5, 6],\n",
              "       [7, 8, 9]])"
            ]
          },
          "metadata": {},
          "execution_count": 33
        }
      ]
    },
    {
      "cell_type": "code",
      "source": [
        "print(arr1[:, :])     #first : for row slicing, second : for col slicing. Here it prints all the elements as nothing passed"
      ],
      "metadata": {
        "colab": {
          "base_uri": "https://localhost:8080/"
        },
        "id": "ifP0u2MM6nWC",
        "outputId": "87515ecb-49aa-4883-8eab-03c7cef3458d"
      },
      "execution_count": null,
      "outputs": [
        {
          "output_type": "stream",
          "name": "stdout",
          "text": [
            "[[1 2 3]\n",
            " [4 5 6]\n",
            " [7 8 9]]\n"
          ]
        }
      ]
    },
    {
      "cell_type": "code",
      "source": [
        "print(arr1[:, :1])    #only the first col is printed"
      ],
      "metadata": {
        "colab": {
          "base_uri": "https://localhost:8080/"
        },
        "id": "CVZjkPJu7QQH",
        "outputId": "12468ab9-0c9e-4285-ff89-dbaace0ec35f"
      },
      "execution_count": null,
      "outputs": [
        {
          "output_type": "stream",
          "name": "stdout",
          "text": [
            "[[1]\n",
            " [4]\n",
            " [7]]\n"
          ]
        }
      ]
    },
    {
      "cell_type": "code",
      "source": [
        "print(arr1[:1, :])   #only the first row is printed"
      ],
      "metadata": {
        "colab": {
          "base_uri": "https://localhost:8080/"
        },
        "id": "0BWf_eSh7SE2",
        "outputId": "9f370bd5-81e7-4034-cc94-d52835a0c115"
      },
      "execution_count": null,
      "outputs": [
        {
          "output_type": "stream",
          "name": "stdout",
          "text": [
            "[[1 2 3]]\n"
          ]
        }
      ]
    },
    {
      "cell_type": "code",
      "source": [
        "print(arr1[:2, :])   #only the first two rows are printed"
      ],
      "metadata": {
        "colab": {
          "base_uri": "https://localhost:8080/"
        },
        "id": "YJ29dB8j7uDx",
        "outputId": "2b77117c-9356-4e6a-ac31-f7415656d6b1"
      },
      "execution_count": null,
      "outputs": [
        {
          "output_type": "stream",
          "name": "stdout",
          "text": [
            "[[1 2 3]\n",
            " [4 5 6]]\n"
          ]
        }
      ]
    },
    {
      "cell_type": "code",
      "source": [
        "print(arr1[:, 1:2])   #only the middle col is printed"
      ],
      "metadata": {
        "colab": {
          "base_uri": "https://localhost:8080/"
        },
        "id": "zB7sfMzT7z5_",
        "outputId": "920aff52-56dd-441f-a8cf-1cc377f80b3b"
      },
      "execution_count": null,
      "outputs": [
        {
          "output_type": "stream",
          "name": "stdout",
          "text": [
            "[[2]\n",
            " [5]\n",
            " [8]]\n"
          ]
        }
      ]
    },
    {
      "cell_type": "code",
      "source": [
        "print(arr1[1:2, 1:2])   #only the middle row & middle col is printed -> means 5"
      ],
      "metadata": {
        "colab": {
          "base_uri": "https://localhost:8080/"
        },
        "id": "cNMoND3n78aF",
        "outputId": "0f5ecc30-9476-450b-a605-957577ee625b"
      },
      "execution_count": null,
      "outputs": [
        {
          "output_type": "stream",
          "name": "stdout",
          "text": [
            "[[5]]\n"
          ]
        }
      ]
    },
    {
      "cell_type": "code",
      "source": [
        "print(arr1[1:, 1:])   #only the last two rows and last two cols are printed"
      ],
      "metadata": {
        "colab": {
          "base_uri": "https://localhost:8080/"
        },
        "id": "w6WJmUlq8MYH",
        "outputId": "2a18424a-178a-4c67-a54e-61dac2242fcd"
      },
      "execution_count": null,
      "outputs": [
        {
          "output_type": "stream",
          "name": "stdout",
          "text": [
            "[[5 6]\n",
            " [8 9]]\n"
          ]
        }
      ]
    }
  ]
}