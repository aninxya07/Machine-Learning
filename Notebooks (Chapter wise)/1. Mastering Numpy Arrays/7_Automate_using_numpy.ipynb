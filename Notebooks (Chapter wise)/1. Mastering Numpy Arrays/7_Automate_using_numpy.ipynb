{
  "nbformat": 4,
  "nbformat_minor": 0,
  "metadata": {
    "colab": {
      "provenance": []
    },
    "kernelspec": {
      "name": "python3",
      "display_name": "Python 3"
    },
    "language_info": {
      "name": "python"
    }
  },
  "cells": [
    {
      "cell_type": "markdown",
      "source": [
        "# **Importing numpy**"
      ],
      "metadata": {
        "id": "JA4Pn1kvCmuZ"
      }
    },
    {
      "cell_type": "code",
      "execution_count": 1,
      "metadata": {
        "id": "J8MPUtPRCjZ5"
      },
      "outputs": [],
      "source": [
        "import numpy as np"
      ]
    },
    {
      "cell_type": "markdown",
      "source": [
        "# **defining a list**"
      ],
      "metadata": {
        "id": "jfTWqtO2CrJA"
      }
    },
    {
      "cell_type": "code",
      "source": [
        "lst = [1, 2, 3, 4, 5, 6, 7, 8, 9, 10]"
      ],
      "metadata": {
        "id": "9I0nTaA4Cqpo"
      },
      "execution_count": 3,
      "outputs": []
    },
    {
      "cell_type": "markdown",
      "source": [
        "# **printing the no of elements as well as the elements inside the list that are greateer than 5**\n",
        "# **using basic for loop (will implement using numpy later on!)**"
      ],
      "metadata": {
        "id": "HUV-5XB-DApg"
      }
    },
    {
      "cell_type": "code",
      "source": [
        "count = 0\n",
        "\n",
        "for i in lst:\n",
        "  if (i > 5):\n",
        "    print(i)\n",
        "    count += 1\n",
        "print(\"No of elements that are greater than 5 is: \", count)"
      ],
      "metadata": {
        "colab": {
          "base_uri": "https://localhost:8080/"
        },
        "id": "T5Um00XuDL0G",
        "outputId": "50e89491-cbb1-465a-83b2-def0764c790c"
      },
      "execution_count": 11,
      "outputs": [
        {
          "output_type": "stream",
          "name": "stdout",
          "text": [
            "6\n",
            "7\n",
            "8\n",
            "9\n",
            "10\n",
            "No of elements that are greater than 5 is:  5\n"
          ]
        }
      ]
    },
    {
      "cell_type": "markdown",
      "source": [
        "# **taking the same list and converting it into numpy array**"
      ],
      "metadata": {
        "id": "tfyaR6W3DeJd"
      }
    },
    {
      "cell_type": "code",
      "source": [
        "lst = np.array([1, 2, 3, 4, 5, 6, 7, 8, 9, 10])"
      ],
      "metadata": {
        "id": "kRAhHlqXDWLb"
      },
      "execution_count": 12,
      "outputs": []
    },
    {
      "cell_type": "code",
      "source": [
        "lst"
      ],
      "metadata": {
        "colab": {
          "base_uri": "https://localhost:8080/"
        },
        "id": "QYzloh3uDpWh",
        "outputId": "207a463b-ebca-45d5-a07d-95738bea7992"
      },
      "execution_count": 13,
      "outputs": [
        {
          "output_type": "execute_result",
          "data": {
            "text/plain": [
              "array([ 1,  2,  3,  4,  5,  6,  7,  8,  9, 10])"
            ]
          },
          "metadata": {},
          "execution_count": 13
        }
      ]
    },
    {
      "cell_type": "markdown",
      "source": [
        "# **calculating length of the numpy array**"
      ],
      "metadata": {
        "id": "9bEXgVy2E5_0"
      }
    },
    {
      "cell_type": "code",
      "source": [
        "len(lst)    #as ther're total 10 elements"
      ],
      "metadata": {
        "colab": {
          "base_uri": "https://localhost:8080/"
        },
        "id": "xVq1-PQdE9-U",
        "outputId": "f6c06f85-b8c3-439d-a08d-bbbfdffd0bc1"
      },
      "execution_count": 17,
      "outputs": [
        {
          "output_type": "execute_result",
          "data": {
            "text/plain": [
              "10"
            ]
          },
          "metadata": {},
          "execution_count": 17
        }
      ]
    },
    {
      "cell_type": "markdown",
      "source": [
        "# **wherever the values are greater than 5, those values are true otherwise false**"
      ],
      "metadata": {
        "id": "hF_A8PIrD27N"
      }
    },
    {
      "cell_type": "code",
      "source": [
        "lst > 5"
      ],
      "metadata": {
        "colab": {
          "base_uri": "https://localhost:8080/"
        },
        "id": "A6N9ujWuDq7v",
        "outputId": "a04d1484-10e7-47ef-cff2-c9a5192725ff"
      },
      "execution_count": 8,
      "outputs": [
        {
          "output_type": "execute_result",
          "data": {
            "text/plain": [
              "array([False, False, False, False, False,  True,  True,  True,  True,\n",
              "        True])"
            ]
          },
          "metadata": {},
          "execution_count": 8
        }
      ]
    },
    {
      "cell_type": "markdown",
      "source": [
        "# **printing only those elements that are > 5 using numpy array**"
      ],
      "metadata": {
        "id": "6D2t6M15EYK-"
      }
    },
    {
      "cell_type": "code",
      "source": [
        "lst[lst > 5]"
      ],
      "metadata": {
        "colab": {
          "base_uri": "https://localhost:8080/"
        },
        "id": "DlwDvZl1D1yH",
        "outputId": "f16aef99-05cd-4814-d13a-f781edc8e959"
      },
      "execution_count": 15,
      "outputs": [
        {
          "output_type": "execute_result",
          "data": {
            "text/plain": [
              "array([ 6,  7,  8,  9, 10])"
            ]
          },
          "metadata": {},
          "execution_count": 15
        }
      ]
    },
    {
      "cell_type": "markdown",
      "source": [
        "# **calculating the no of elements that are greater than 5**"
      ],
      "metadata": {
        "id": "aMHCAGNxEuHY"
      }
    },
    {
      "cell_type": "code",
      "source": [
        "len(lst[lst > 5])"
      ],
      "metadata": {
        "colab": {
          "base_uri": "https://localhost:8080/"
        },
        "id": "fFkobuzIEcgk",
        "outputId": "62bb9d53-5b5e-4e7e-e233-797558f50b09"
      },
      "execution_count": 16,
      "outputs": [
        {
          "output_type": "execute_result",
          "data": {
            "text/plain": [
              "5"
            ]
          },
          "metadata": {},
          "execution_count": 16
        }
      ]
    },
    {
      "cell_type": "markdown",
      "source": [
        "# **printing the elements that are divisible by 3**"
      ],
      "metadata": {
        "id": "uIb9QjQLFN6e"
      }
    },
    {
      "cell_type": "code",
      "source": [
        "lst[lst % 3 == 0]"
      ],
      "metadata": {
        "colab": {
          "base_uri": "https://localhost:8080/"
        },
        "id": "U6CjvEt7E1VL",
        "outputId": "c01b164e-b843-4667-e5dc-0568b9ed639b"
      },
      "execution_count": 19,
      "outputs": [
        {
          "output_type": "execute_result",
          "data": {
            "text/plain": [
              "array([3, 6, 9])"
            ]
          },
          "metadata": {},
          "execution_count": 19
        }
      ]
    },
    {
      "cell_type": "markdown",
      "source": [
        "# **calculating the no of elements that are divisible by 3**"
      ],
      "metadata": {
        "id": "ofazIZoXFZlH"
      }
    },
    {
      "cell_type": "code",
      "source": [
        "len(lst[lst % 3 == 0])"
      ],
      "metadata": {
        "colab": {
          "base_uri": "https://localhost:8080/"
        },
        "id": "HYD_Yx_uFUCH",
        "outputId": "d941a00d-b48b-409d-ddb6-a5b6a2a1f386"
      },
      "execution_count": 20,
      "outputs": [
        {
          "output_type": "execute_result",
          "data": {
            "text/plain": [
              "3"
            ]
          },
          "metadata": {},
          "execution_count": 20
        }
      ]
    },
    {
      "cell_type": "markdown",
      "source": [
        "# **we implemented the greater than 5 case using list (for loop) and also using numpy arrays. But as compared to list, numpy array operations are much faster than lists and also the lines of code are much lesser as compared to list. No need to use any loops!**"
      ],
      "metadata": {
        "id": "vgdOLspPF2nV"
      }
    }
  ]
}